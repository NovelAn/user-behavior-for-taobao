{
 "cells": [
  {
   "cell_type": "markdown",
   "metadata": {
    "heading_collapsed": true
   },
   "source": [
    "# 淘宝用户行为分析"
   ]
  },
  {
   "cell_type": "markdown",
   "metadata": {
    "heading_collapsed": true,
    "hidden": true
   },
   "source": [
    "## 项目简介\n",
    "随着移动互联网技术的飞速发展和大众人均收入的增长，电商行业也随着技术的发展迅速崛起又快速分化。在当下大众消费需求日趋多样化的时代背景下，移动互联网行业特别是电商行业不再依靠用户红利实现业务增长，开始从粗放型的经营模式转向精细化管理，需要结合市场、渠道、用户行为等数据分析，对用户展开有针对性的运营活动，提供个性化、差异化的经营策略，从而实现运营目的。  \n",
    "本项目使用**MySQL**分析淘宝平台2017年11月25日至2017年12月3日的用户行为数据，通过对网站流量、用户活跃率、用户行为转化漏斗、用户行为偏好等特征的分析，提供有针对性的运营策略。\n",
    "\n",
    "## 数据理解\n",
    "\n",
    "### 数据来源\n",
    "\n",
    "本项目数据来源于阿里天池[User Behavior Data](https://tianchi.aliyun.com/dataset/dataDetail?dataId=649)，为了快速分析项目模型，项目仅截取完整数据集`UserBehavior`(3.41GB)的部分数据记录`UB_split_10.csv`(171.7MB)作为本项目的数据集。\n",
    "\n",
    "### 数据属性\n",
    "<table> \n",
    "    <tr>\n",
    "        <td>\n",
    "            <table border=\"1\" cellspacing=\"5\" cellpadding=\"5\" align=\"left\" style=\"text-align:left\">\n",
    "                <tr>\n",
    "                    <th>变量名</th>\n",
    "                    <th>中文释义</th>\n",
    "                    <th>数据类型</th>\n",
    "                </tr>    \n",
    "                <tr>\n",
    "                    <td >UserID</td>\n",
    "                    <td>用户ID</td>\n",
    "                    <td>整型</td>\n",
    "                </tr>\n",
    "                <tr>\n",
    "                    <td>ItemID</td>\n",
    "                    <td>商品ID</td>\n",
    "                    <td>整型</td>\n",
    "                </tr>\n",
    "                <tr>\n",
    "                    <td>CategoryID</td>\n",
    "                    <td>商品所属种类ID</td>\n",
    "                    <td>整型</td>\n",
    "                </tr>\n",
    "                <tr>\n",
    "                    <td>CategoryID</td>\n",
    "                    <td>商品所属种类ID</td>\n",
    "                    <td>整型</td>\n",
    "                </tr>\n",
    "                <tr>\n",
    "                    <td>BehaviorType</td>\n",
    "                    <td>行为类型，包含pv,cart,buy和fav四种类型的行为</td>\n",
    "                    <td>字符串</td>\n",
    "                </tr>\n",
    "                <tr>\n",
    "                    <td>Timestamp</td>\n",
    "                    <td>时间戳，用户发生某项行为当下时间点，精确到秒</td>\n",
    "                    <td>整型</td>\n",
    "                </tr>\n",
    "            </table>\n",
    "        </td>\n",
    "     </tr>\n",
    "    <tr> \n",
    "        <td>\n",
    "            <table border=\"1\" cellspacing=\"5\" cellpadding=\"5\" align=\"left\" style=\"text-align:left\">\n",
    "                <tr>\n",
    "                    <th>用户行为</th>\n",
    "                    <th>解释说明</th>\n",
    "                </tr>\n",
    "                <tr>\n",
    "                    <td>pv</td>\n",
    "                    <td>商品浏览</td>\n",
    "                </tr>\n",
    "                <tr>\n",
    "                    <td>cart</td>\n",
    "                    <td>加入购物车</td>\n",
    "                </tr>\n",
    "                <tr>\n",
    "                    <td>fav</td>\n",
    "                    <td>收藏</td>\n",
    "                </tr>\n",
    "                <tr>\n",
    "                    <td>buy</td>\n",
    "                    <td>购买</td>\n",
    "                </tr>\n",
    "            </table>\n",
    "        </td>\n",
    "    </tr>\n",
    "</table>\n",
    "\n",
    "## 评估指标\n",
    "<img src='.\\评估指标.png'>\n",
    "\n",
    "## 提出问题\n",
    "根据上述的业务评估指标，项目分析主要解决以下问题：\n",
    "\n",
    "- Q1. 网站流量情况：访问量PV、独立访客数UV、人均访问数PV/UV、跳出率（只存在浏览行为的访问量/PV）、DAU、活跃率等指标情况；\n",
    "- Q2. 探索用户从浏览到购买整个过程的转化或者流失情况，从而确定关键夹点位置，为后续的改进提出意见；\n",
    "- Q3. 探索用户的行为模式，从日期、时间、商品种类销量、具体商品销量等维度探索用户的行为偏好和模式；\n",
    "- Q4. 挖掘用户价值，发现高价值用户"
   ]
  },
  {
   "cell_type": "markdown",
   "metadata": {
    "heading_collapsed": true
   },
   "source": [
    "# 数据导入\n",
    "\n",
    "使用ETL工具Kettle快速读写数据集`UB_split_10.csv`到数据库中，因为拆分的数据集没有字段名，所以预先在数据库中创建表结构和编码规则"
   ]
  },
  {
   "cell_type": "markdown",
   "metadata": {
    "hidden": true
   },
   "source": [
    "```mysql\n",
    "CREATE TABLE IF NOT EXISTS user_behavior_split_10 (\n",
    "UserID INT NOT NULL,\n",
    "ItemID INT,\n",
    "CategoryID INT,\n",
    "BehaviorType VARCHAR(255),\n",
    "Timestamp INT) ENGINE INNODB DEFAULT CHARSET=utf8;\n",
    "```"
   ]
  },
  {
   "cell_type": "markdown",
   "metadata": {
    "heading_collapsed": true
   },
   "source": [
    "# 数据评估与清洗\n",
    "对数据集的基本信息，如数据类型、重复值、缺失值、异常值等评估和清理"
   ]
  },
  {
   "cell_type": "markdown",
   "metadata": {
    "heading_collapsed": true,
    "hidden": true
   },
   "source": [
    "## 观察记录"
   ]
  },
  {
   "cell_type": "markdown",
   "metadata": {
    "hidden": true
   },
   "source": [
    "```Mysql\n",
    "-- 查看总记录数\n",
    "SELECT count(*) AS 总记录数\n",
    "FROM user_behavior_split_10\n",
    "\n",
    "-- 预览数据\n",
    "SELECT * \n",
    "FROM user_behavior_split_10\n",
    "LIMIT 10\n",
    "```\n",
    "本项目的数据集共有500万条记录，每一条记录代表一个用户的用户行为\n",
    "\n",
    "![image.png](.\\sql-results-pngs\\scan-data-before-clean.png)"
   ]
  },
  {
   "cell_type": "markdown",
   "metadata": {
    "heading_collapsed": true,
    "hidden": true
   },
   "source": [
    "## 评估数据"
   ]
  },
  {
   "cell_type": "markdown",
   "metadata": {
    "hidden": true
   },
   "source": [
    "\n",
    "- 查看各个变量的数据类型\n",
    "\n",
    "```Mysql\n",
    "SELECT COLUMN_NAME, DATA_TYPE\n",
    "FROM information_schema.`COLUMNS`\n",
    "WHERE TABLE_NAME='user_behavior_split_10' AND TABLE_SCHEMA = 'userbehavior_taobao';\n",
    "```\n",
    "![](.\\sql-results-pngs\\datatype-before-clean.png)\n",
    "\n",
    "- 查看Behavior Type的唯一值\n",
    "\n",
    "```Mysql\n",
    "SELECT DISTINCT BehaviorType\n",
    "FROM user_behavior_split_10\n",
    "```\n",
    "\n",
    "![](.\\sql-results-pngs\\unique-value-UBT.png)\n",
    "\n",
    "\n"
   ]
  },
  {
   "cell_type": "markdown",
   "metadata": {
    "hidden": true
   },
   "source": [
    "> 部分变量的数据类型存在错误：\n",
    "- UserID、ItemID的数据类型应改为字符串\n",
    "- Timestamp需改为标准可读的日期时间形式"
   ]
  },
  {
   "cell_type": "markdown",
   "metadata": {
    "hidden": true
   },
   "source": [
    "## 数据类型处理"
   ]
  },
  {
   "cell_type": "markdown",
   "metadata": {
    "hidden": true
   },
   "source": [
    "- 更正数据类型和新建日期时间相关列\n",
    "\n",
    "```Mysql\n",
    "-- 将UserID和ItemID的数据类型改为字符串\n",
    "ALTER TABLE user_behavior_split_10\n",
    "MODIFY COLUMN UserID VARCHAR(100),\n",
    "MODIFY COLUMN ItemID VARCHAR(100);\n",
    "\n",
    "-- 根据时间戳新建datetime，date（天）和小时列\n",
    "\n",
    "ALTER TABLE user_behavior_split_10 ADD Datetime TIMESTAMP(0) NULL;\n",
    "UPDATE user_behavior_split_10\n",
    "SET Datetime = FROM_UNIXTIME(user_behavior_split_10.`Timestamp`);\n",
    " \n",
    "ALTER TABLE user_behavior_split_10 ADD Date CHAR(10) NULL\n",
    "UPDATE user_behavior_split_10\n",
    "SET Date = SUBSTR(Datetime,1,10);\n",
    "\n",
    "ALTER TABLE user_behavior_split_10 ADD Hour char(2) NULL\n",
    "UPDATE user_behavior_split_10\n",
    "SET Hour = SUBSTR(Datetime,12,2);\n",
    "```\n",
    "![](.\\sql-results-pngs\\scan-data-after-clean.png)\n",
    "\n",
    "\n",
    "- 查看更改之后的数据类型\n",
    "\n",
    "```Mysql\n",
    "SELECT COLUMN_NAME,DATA_TYPE\n",
    "FROM information_schema.`COLUMNS`\n",
    "WHERE TABLE_NAME='user_behavior_split_10' AND TABLE_SCHEMA= 'userbehavior_taobao'\n",
    "```\n",
    "![](.\\sql-results-pngs\\datatype-after-clean.png)\n",
    "\n"
   ]
  },
  {
   "cell_type": "markdown",
   "metadata": {
    "hidden": true
   },
   "source": [
    "## 异常值处理"
   ]
  },
  {
   "cell_type": "markdown",
   "metadata": {
    "hidden": true
   },
   "source": [
    "- 探索行为发生的时间是否存在不在日期时间范围内或空值的数据记录\n",
    "\n",
    "```Mysql\n",
    "SELECT *\n",
    "FROM user_behavior_split_10\n",
    "WHERE Datetime < '2017-11-25 00:00:00' OR Datetime >= '2017-12-04 00:00:00' OR Datetime IS NULL\n",
    "\n",
    "```  \n",
    "![](.\\sql-results-pngs\\outoftime-records.png)\n",
    "\n",
    "- 删除时间范围外的数据记录和时间日期为空值的数据记录\n",
    "\n",
    "```Mysql\n",
    "BEGIN;\n",
    "DELETE FROM user_behavior_split_10\n",
    "WHERE Datetime < '2017-11-25 00:00:00' OR Datetime >= '2017-12-04 00:00:00' OR Datetime IS NULL;\n",
    "COMMIT;\n",
    "\n",
    "-- 查看是否删除完成 \n",
    "SELECT *\n",
    "FROM user_behavior_split_10\n",
    "WHERE Datetime < '2017-11-25 00:00:00' OR Datetime >= '2017-12-04 00:00:00' OR Datetime IS NULL\n",
    "\n",
    "```\n",
    "![](.\\sql-results-pngs\\del-outoftime-records.png)\n",
    "\n"
   ]
  },
  {
   "cell_type": "markdown",
   "metadata": {},
   "source": [
    "# 探索性分析\n",
    "通过可视化的方式，探索11月25日-12月3日期间，淘宝用户在访问网站、行为转化率、用户行为偏好、商品销量等现状探索"
   ]
  },
  {
   "cell_type": "markdown",
   "metadata": {},
   "source": [
    "## 网站流量情况"
   ]
  },
  {
   "cell_type": "markdown",
   "metadata": {},
   "source": [
    "### PV、UV、人均访问数\n",
    "$PV = 浏览商品的累计次数$  \n",
    "$UV = 访问网站的不重复用户个数$  \n",
    "$人均访问数 = \\frac{PV}{UV}$"
   ]
  },
  {
   "cell_type": "markdown",
   "metadata": {},
   "source": [
    "```Mysql\n",
    "-- 将流量结果用table封装以便后续探索的使用\n",
    "CREATE TABLE web_traffic AS\n",
    "SELECT t1.*, t1.PV/t1.UV AS '平均页面访问量'\n",
    "FROM (SELECT COUNT(DISTINCT UserID) AS 'UV',\n",
    " (SELECT COUNT(*)\n",
    "\tFROM user_behavior_split_10\n",
    "\tWHERE BehaviorType = 'pv') AS 'PV'\n",
    "FROM user_behavior_split_10) AS t1\n",
    "SELECT *\n",
    "FROM web_traffic\n",
    "\n",
    "```\n",
    "![](.\\sql-results-pngs\\web-traffic.png)"
   ]
  },
  {
   "cell_type": "markdown",
   "metadata": {},
   "source": [
    "本期间内，有48,503位用户访问了淘宝，并产生了4,469,990条浏览记录，人均访问量约为92条"
   ]
  },
  {
   "cell_type": "markdown",
   "metadata": {},
   "source": [
    "### 跳出率、日均活跃用户数、活跃率\n",
    "$跳出率 = \\frac{只有点击行为的用户数}{总用户数} $  \n",
    "$日均活跃用户数(DAU) = \\frac{\\sum{日UV}}{天数}$  \n",
    "$日活率(DAU Rate) =\\frac{DAU}{UV}$"
   ]
  },
  {
   "cell_type": "markdown",
   "metadata": {},
   "source": [
    "- 跳出率\n",
    "```Mysql\n",
    "SELECT (UV - (SELECT COUNT(DISTINCT UserID)\n",
    "FROM user_behavior_split_10\n",
    "WHERE BehaviorType != 'pv'))/UV AS '跳出率'\n",
    "FROM web_traffic;\n",
    "```\n",
    "![](.\\sql-results-pngs\\bounce-rate.png)\n",
    "\n",
    "- 日均活跃用户数和活跃率\n",
    "```Mysql\n",
    "SELECT t3.`日均活跃用户数`, t3.`日均活跃用户数`/web_traffic.UV AS '日活率'\n",
    "FROM (SELECT AVG(t2.unique_user_count) AS '日均活跃用户数'\n",
    "FROM (SELECT Date,COUNT(DISTINCT UserID) AS 'unique_user_count' \n",
    "FROM user_behavior_split_10\n",
    "GROUP BY Date) AS t2) AS t3, web_traffic\n",
    "```\n",
    "![](.\\sql-results-pngs\\DAU.png)"
   ]
  },
  {
   "cell_type": "markdown",
   "metadata": {},
   "source": [
    "本周期内，淘宝跳出率约为6%，日均活跃用户数约为38,047个用户，约占该期间内总用户数的79%"
   ]
  },
  {
   "cell_type": "markdown",
   "metadata": {},
   "source": [
    "### 小结\n",
    "2017年11月25日至2017年12月3日期间内，有48,283位用户访问了淘宝，并产生了4,469,990条浏览记录，人均访问量约为92条。在这48,283位用户中，平均每天有79%的用户会登陆淘宝进行商品选购。淘宝网具有较大的流量规模和用户基数，高日活量和低跳出率说明淘宝具有较好的用户体验和较强的用户粘性，人们能在淘宝上解决其购物需求，其俨然成为人们的主要购物平台。"
   ]
  },
  {
   "cell_type": "markdown",
   "metadata": {},
   "source": [
    "## 用户行为路径转化漏斗\n",
    "探索用户从进入网站、浏览、选择加购到完成购买整个过程的转化情况，从而确定关键夹点位置，为后续的运营策略提出较有针对性的建议。"
   ]
  },
  {
   "cell_type": "markdown",
   "metadata": {},
   "source": [
    "### 行为次数转化率\n",
    "探索商品的整个选购过程中，每一个环节到下一个环节的行为次数转化率"
   ]
  },
  {
   "cell_type": "markdown",
   "metadata": {},
   "source": [
    "- 统计各个行为的总次数\n",
    "\n",
    "```Mysql\n",
    "-- 插入cart和fav的总计\n",
    "INSERT INTO bh_total_counts VALUES ('cart&fav',(SELECT\n",
    "\tSUM(t1.bh_counts)\n",
    "FROM\n",
    "\t(\n",
    "\t\tSELECT\n",
    "\t\t\tbh_counts\n",
    "\t\tFROM\n",
    "\t\t\tbh_total_counts\n",
    "\t\tWHERE\n",
    "\t\t\tBehaviorType IN ('cart', 'fav')\n",
    "\t) AS t1))\n",
    "                                                \n",
    "                                                \n",
    "-- 删除cart和fav的记录\n",
    "\n",
    "DELETE FROM bh_total_counts\n",
    "WHERE BehaviorType in ('fav','cart')\n",
    "                                                                                      \n",
    "```\n",
    "![](.\\sql-results-pngs\\bh-counts.png)\n",
    "\n",
    "> 因为加入购物车和收藏在购买商品的步骤上没有先后顺序，而且两种行为都能表现用户对产品可能存在购买意向，同属于购买意向确认阶段，所以可以将这两种行为合并作为购买意向确认阶段的行为总次数；\n",
    "\n",
    "> 加入购买车或收藏也并非进入购买页面的必要行为，因为部分用户也可以从浏览商品页面直接进入购买页面，但这并不影响计算最后的整体转化率"
   ]
  },
  {
   "cell_type": "markdown",
   "metadata": {},
   "source": [
    "- 行为总数转化漏斗  \n",
    "> 使用PowerBI可视化行为总数转化漏斗\n",
    "\n",
    "![](.\\sql-results-pngs\\bhcounts-converse-rate.png)\n",
    "\n",
    "从上图可知，仅有9.56%的浏览行为转化为加入购物车或收藏行为，从加入购物车和收藏商品到购买的转化率为23.07%，总体的购买转化率为2.2%。从整个选购过程的转化率来看，由浏览转化为加入购物车或收藏行为是整个过程中行为流失量最多的环节，所以该阶段应为整个过程的关键夹点，需要在此环节提高转化率"
   ]
  },
  {
   "cell_type": "markdown",
   "metadata": {},
   "source": [
    "### 不同行为的独立用户人数转化率"
   ]
  },
  {
   "cell_type": "markdown",
   "metadata": {},
   "source": [
    "- 统计不同行为的独立用户人数\n",
    "\n",
    "```Mysql\n",
    "SELECT\n",
    "```"
   ]
  },
  {
   "cell_type": "markdown",
   "metadata": {},
   "source": [
    "## 用户行为偏好探索\n",
    "探索用户的行为模式，从时间日期、商品种类等因素探索用户的行为偏好和模式"
   ]
  },
  {
   "cell_type": "markdown",
   "metadata": {},
   "source": [
    "### 日期时间维度"
   ]
  },
  {
   "cell_type": "markdown",
   "metadata": {},
   "source": [
    "- 按照日期分组，计算每一天的PV和UV\n",
    "```Mysql\n",
    "CREATE TABLE bh_date AS \n",
    "SELECT Date, COUNT(*) AS \"PV\", COUNT(DISTINCT UserID) AS \"UV\"\n",
    "FROM user_behavior_split_10\n",
    "WHERE BehaviorType = \"pv\"\n",
    "GROUP BY Date\n",
    "```\n",
    "- 导出表bh_date，可视化每一天的PV和UV情况\n"
   ]
  },
  {
   "cell_type": "markdown",
   "metadata": {},
   "source": [
    "- 按照时间点分组，计算每一个时刻的平均PV和UV\n",
    "\n",
    "```Mysql\n",
    "CREATE TABLE bh_hour AS \n",
    "SELECT `Hour`, COUNT(*) AS \"PV\", COUNT(DISTINCT UserID) AS \"UV\"\n",
    "FROM user_behavior_split_10\n",
    "WHERE BehaviorType = \"pv\"\n",
    "GROUP BY `Hour\n",
    "\n",
    "-- 计算平均每天该时刻的APV和AUV\n",
    "ALTER TABLE bh_hour\n",
    "ADD COLUMN APV DECIMAL(10,2),\n",
    "ADD COLUMN AUV DECIMAL(10,2);\n",
    "UPDATE bh_hour\n",
    "SET APV = PV/(SELECT COUNT(*) FROM bh_date),AUV = UV/(SELECT COUNT(*) FROM bh_date);\n",
    "```\n",
    "\n",
    "- 导出表bh_date，可视化每一天的PV和UV情况"
   ]
  },
  {
   "cell_type": "markdown",
   "metadata": {},
   "source": [
    "### 商品种类维度\n",
    "\n",
    "- 不同的商品种类之间是否存在较大的购买量差异？如果存在较大差异，继续探索下面三个问题。\n",
    "- 哪些种类的商品兼具高浏览量和高购买量？\n",
    "- 哪些种类的商品虽然没有较高的活跃度但是付费成功率较高，购买率较高？\n",
    "- 哪些种类的商品虽然有较高的活跃度，但是付费成功率较低，购买率较低？"
   ]
  },
  {
   "cell_type": "code",
   "execution_count": null,
   "metadata": {
    "collapsed": true
   },
   "outputs": [],
   "source": []
  },
  {
   "cell_type": "code",
   "execution_count": null,
   "metadata": {
    "collapsed": true
   },
   "outputs": [],
   "source": []
  },
  {
   "cell_type": "code",
   "execution_count": null,
   "metadata": {
    "collapsed": true
   },
   "outputs": [],
   "source": []
  },
  {
   "cell_type": "code",
   "execution_count": null,
   "metadata": {
    "collapsed": true
   },
   "outputs": [],
   "source": []
  },
  {
   "cell_type": "code",
   "execution_count": null,
   "metadata": {
    "collapsed": true
   },
   "outputs": [],
   "source": []
  }
 ],
 "metadata": {
  "kernelspec": {
   "display_name": "Python 3",
   "language": "python",
   "name": "python3"
  },
  "language_info": {
   "codemirror_mode": {
    "name": "ipython",
    "version": 3
   },
   "file_extension": ".py",
   "mimetype": "text/x-python",
   "name": "python",
   "nbconvert_exporter": "python",
   "pygments_lexer": "ipython3",
   "version": "3.7.4"
  },
  "toc": {
   "base_numbering": 1,
   "nav_menu": {},
   "number_sections": true,
   "sideBar": true,
   "skip_h1_title": false,
   "title_cell": "Table of Contents",
   "title_sidebar": "Contents",
   "toc_cell": false,
   "toc_position": {},
   "toc_section_display": true,
   "toc_window_display": true
  }
 },
 "nbformat": 4,
 "nbformat_minor": 2
}
