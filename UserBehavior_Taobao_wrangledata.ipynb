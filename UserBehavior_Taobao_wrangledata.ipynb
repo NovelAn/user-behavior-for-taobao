{
 "cells": [
  {
   "cell_type": "markdown",
   "metadata": {},
   "source": [
    "# 淘宝用户行为分析\n",
    "\n",
    "## 项目简介\n",
    "随着移动互联网技术的飞速发展和大众人均收入的增长，电商行业也随着技术的发展迅速崛起又快速分化。在当下大众消费需求日趋多样化的时代背景下，移动互联网行业特别是电商行业不再依靠用户红利实现业务增长，开始从粗放型的经营模式转向精细化管理，需要结合市场、渠道、用户行为等数据分析，对用户展开有针对性的运营活动，提供个性化、差异化的经营策略，从而实现运营目的。  \n",
    "本项目使用Python分析淘宝平台2017年11月25日至2017年12月3日的用户行为数据，通过对网站流量、用户活跃率、用户行为转化漏斗、用户行为偏好等特征的分析，提供有针对性的运营策略。\n",
    "\n",
    "## 数据理解\n",
    "\n",
    "### 数据来源\n",
    "\n",
    "本项目数据来源于阿里天池[User Behavior Data](https://tianchi.aliyun.com/dataset/dataDetail?dataId=649)，为了快速分析项目模型，项目仅截取完整数据集`UserBehavior`(3.41GB)的迷你数据集`UB_split_10.csv`(171.7MB)作为本项目的数据集。\n",
    "\n",
    "### 数据属性\n",
    "<table> \n",
    "    <tr>\n",
    "        <td>\n",
    "            <table border=\"1\" cellspacing=\"5\" cellpadding=\"5\" align=\"left\" style=\"text-align:left\">\n",
    "                <tr>\n",
    "                    <th>变量名</th>\n",
    "                    <th>中文释义</th>\n",
    "                    <th>数据类型</th>\n",
    "                </tr>    \n",
    "                <tr>\n",
    "                    <td >UserID</td>\n",
    "                    <td>用户ID</td>\n",
    "                    <td>整型</td>\n",
    "                </tr>\n",
    "                <tr>\n",
    "                    <td>ItemID</td>\n",
    "                    <td>商品ID</td>\n",
    "                    <td>整型</td>\n",
    "                </tr>\n",
    "                <tr>\n",
    "                    <td>CategoryID</td>\n",
    "                    <td>商品所属种类ID</td>\n",
    "                    <td>整型</td>\n",
    "                </tr>\n",
    "                <tr>\n",
    "                    <td>CategoryID</td>\n",
    "                    <td>商品所属种类ID</td>\n",
    "                    <td>整型</td>\n",
    "                </tr>\n",
    "                <tr>\n",
    "                    <td>BehaviorType</td>\n",
    "                    <td>行为类型，包含pv,cart,buy和fav四种类型的行为</td>\n",
    "                    <td>字符串</td>\n",
    "                </tr>\n",
    "                <tr>\n",
    "                    <td>Timestamp</td>\n",
    "                    <td>时间戳，用户发生某项行为当下时间点，精确到秒</td>\n",
    "                    <td>整型</td>\n",
    "                </tr>\n",
    "            </table>\n",
    "        </td>\n",
    "     </tr>\n",
    "    <tr> \n",
    "        <td>\n",
    "            <table border=\"1\" cellspacing=\"5\" cellpadding=\"5\" align=\"left\" style=\"text-align:left\">\n",
    "                <tr>\n",
    "                    <th>用户行为</th>\n",
    "                    <th>解释说明</th>\n",
    "                </tr>\n",
    "                <tr>\n",
    "                    <td>pv</td>\n",
    "                    <td>商品浏览</td>\n",
    "                </tr>\n",
    "                <tr>\n",
    "                    <td>cart</td>\n",
    "                    <td>加入购物车</td>\n",
    "                </tr>\n",
    "                <tr>\n",
    "                    <td>fav</td>\n",
    "                    <td>收藏</td>\n",
    "                </tr>\n",
    "                <tr>\n",
    "                    <td>buy</td>\n",
    "                    <td>购买</td>\n",
    "                </tr>\n",
    "            </table>\n",
    "        </td>\n",
    "    </tr>\n",
    "</table>"
   ]
  },
  {
   "cell_type": "markdown",
   "metadata": {},
   "source": [
    "## 评估指标\n",
    "<img src='.\\评估指标.png'>\n",
    "\n",
    "## 提出问题\n",
    "通过上图的评估指标，项目分析主要解决以下问题：\n",
    "\n",
    "- Q1. 网站流量情况：访问量PV、独立访客数UV、人均访问数PV/UV、跳出率（只存在浏览行为的访问量/PV）、DAU、活跃率等指标情况；\n",
    "- Q2. 探索用户从浏览到购买整个过程的转化或者流失情况，从而确定关键夹点位置，为后续的改进提出意见；\n",
    "- Q3. 探索用户的行为模式，从日期、时间、商品种类销量、具体商品销量等维度探索用户的行为偏好和模式；\n",
    "- Q4. 挖掘用户价值，发现高价值用户"
   ]
  },
  {
   "cell_type": "code",
   "execution_count": 1,
   "metadata": {
    "run_control": {
     "marked": false
    }
   },
   "outputs": [],
   "source": [
    "import pandas as pd\n",
    "import os\n",
    "from datetime import datetime,timedelta,timezone\n",
    "import numpy as np\n",
    "import warnings\n",
    "warnings.filterwarnings(\"ignore\")\n",
    "np.set_printoptions(suppress=True,threshold=1000000)"
   ]
  },
  {
   "cell_type": "markdown",
   "metadata": {},
   "source": [
    "# 数据评估和清理\n",
    "对数据集的基本信息，如数据类型、重复值、缺失值、异常值等评估和清理"
   ]
  },
  {
   "cell_type": "markdown",
   "metadata": {},
   "source": [
    "## 错误数据类型处理\n",
    "- 评估变量的数据类型是否存在错误"
   ]
  },
  {
   "cell_type": "code",
   "execution_count": 2,
   "metadata": {},
   "outputs": [],
   "source": [
    "df = pd.read_csv('.\\\\拆分数据集\\\\UB_split_10.csv',names=['UserID','ItemID','CategoryID','BehaviorType','Timestamp'])"
   ]
  },
  {
   "cell_type": "code",
   "execution_count": 3,
   "metadata": {
    "scrolled": false
   },
   "outputs": [
    {
     "name": "stdout",
     "output_type": "stream",
     "text": [
      "<class 'pandas.core.frame.DataFrame'>\n",
      "RangeIndex: 5000000 entries, 0 to 4999999\n",
      "Data columns (total 5 columns):\n",
      "UserID          int64\n",
      "ItemID          int64\n",
      "CategoryID      int64\n",
      "BehaviorType    object\n",
      "Timestamp       int64\n",
      "dtypes: int64(4), object(1)\n",
      "memory usage: 171.7+ MB\n"
     ]
    }
   ],
   "source": [
    "df.info()"
   ]
  },
  {
   "cell_type": "code",
   "execution_count": 4,
   "metadata": {
    "scrolled": true
   },
   "outputs": [
    {
     "data": {
      "text/html": [
       "<div>\n",
       "<style scoped>\n",
       "    .dataframe tbody tr th:only-of-type {\n",
       "        vertical-align: middle;\n",
       "    }\n",
       "\n",
       "    .dataframe tbody tr th {\n",
       "        vertical-align: top;\n",
       "    }\n",
       "\n",
       "    .dataframe thead th {\n",
       "        text-align: right;\n",
       "    }\n",
       "</style>\n",
       "<table border=\"1\" class=\"dataframe\">\n",
       "  <thead>\n",
       "    <tr style=\"text-align: right;\">\n",
       "      <th></th>\n",
       "      <th>UserID</th>\n",
       "      <th>ItemID</th>\n",
       "      <th>CategoryID</th>\n",
       "      <th>BehaviorType</th>\n",
       "      <th>Timestamp</th>\n",
       "    </tr>\n",
       "  </thead>\n",
       "  <tbody>\n",
       "    <tr>\n",
       "      <td>0</td>\n",
       "      <td>314276</td>\n",
       "      <td>3657454</td>\n",
       "      <td>3738615</td>\n",
       "      <td>pv</td>\n",
       "      <td>1511572071</td>\n",
       "    </tr>\n",
       "    <tr>\n",
       "      <td>1</td>\n",
       "      <td>314276</td>\n",
       "      <td>98571</td>\n",
       "      <td>3738615</td>\n",
       "      <td>pv</td>\n",
       "      <td>1511572152</td>\n",
       "    </tr>\n",
       "    <tr>\n",
       "      <td>2</td>\n",
       "      <td>314276</td>\n",
       "      <td>76385</td>\n",
       "      <td>3108044</td>\n",
       "      <td>pv</td>\n",
       "      <td>1511572189</td>\n",
       "    </tr>\n",
       "    <tr>\n",
       "      <td>3</td>\n",
       "      <td>314276</td>\n",
       "      <td>1281342</td>\n",
       "      <td>3108044</td>\n",
       "      <td>pv</td>\n",
       "      <td>1511572236</td>\n",
       "    </tr>\n",
       "    <tr>\n",
       "      <td>4</td>\n",
       "      <td>314276</td>\n",
       "      <td>3893085</td>\n",
       "      <td>3607361</td>\n",
       "      <td>pv</td>\n",
       "      <td>1511572298</td>\n",
       "    </tr>\n",
       "  </tbody>\n",
       "</table>\n",
       "</div>"
      ],
      "text/plain": [
       "   UserID   ItemID  CategoryID BehaviorType   Timestamp\n",
       "0  314276  3657454     3738615           pv  1511572071\n",
       "1  314276    98571     3738615           pv  1511572152\n",
       "2  314276    76385     3108044           pv  1511572189\n",
       "3  314276  1281342     3108044           pv  1511572236\n",
       "4  314276  3893085     3607361           pv  1511572298"
      ]
     },
     "execution_count": 4,
     "metadata": {},
     "output_type": "execute_result"
    }
   ],
   "source": [
    "df.head()"
   ]
  },
  {
   "cell_type": "code",
   "execution_count": 5,
   "metadata": {},
   "outputs": [
    {
     "data": {
      "text/plain": [
       "array(['pv', 'cart', 'buy', 'fav'], dtype=object)"
      ]
     },
     "execution_count": 5,
     "metadata": {},
     "output_type": "execute_result"
    }
   ],
   "source": [
    "df.BehaviorType.unique()"
   ]
  },
  {
   "cell_type": "markdown",
   "metadata": {},
   "source": [
    "- 本项目共有500W条淘宝用户行为数据，每一行数据代表一个用户的行为记录\n",
    "- 部分变量的数据类型有错误：\n",
    "    - UserID、ItemID、CategoryID应改为string\n",
    "    - BehaviorType改为Category更有效\n",
    "    - Timestamp需改为datetime"
   ]
  },
  {
   "cell_type": "code",
   "execution_count": 6,
   "metadata": {},
   "outputs": [],
   "source": [
    "# 按照上述评估结果，更正数据类型\n",
    "df_copy = df.copy()\n",
    "df_copy.UserID = df_copy.UserID.astype('str')\n",
    "df_copy.ItemID = df_copy.ItemID.astype('str')\n",
    "df_copy.CategoryID = df_copy.CategoryID.astype('str')\n",
    "df_copy.BehaviorType = pd.Categorical(df_copy.BehaviorType)"
   ]
  },
  {
   "cell_type": "code",
   "execution_count": 7,
   "metadata": {
    "scrolled": true
   },
   "outputs": [],
   "source": [
    "# 将时间戳更改为日期时间型，注意这里需使用当地时间，不能使用utc时间\n",
    "df_copy.Timestamp = pd.to_datetime(df_copy.Timestamp,unit='s')+timedelta(hours=8)"
   ]
  },
  {
   "cell_type": "code",
   "execution_count": 8,
   "metadata": {},
   "outputs": [
    {
     "data": {
      "text/html": [
       "<div>\n",
       "<style scoped>\n",
       "    .dataframe tbody tr th:only-of-type {\n",
       "        vertical-align: middle;\n",
       "    }\n",
       "\n",
       "    .dataframe tbody tr th {\n",
       "        vertical-align: top;\n",
       "    }\n",
       "\n",
       "    .dataframe thead th {\n",
       "        text-align: right;\n",
       "    }\n",
       "</style>\n",
       "<table border=\"1\" class=\"dataframe\">\n",
       "  <thead>\n",
       "    <tr style=\"text-align: right;\">\n",
       "      <th></th>\n",
       "      <th>UserID</th>\n",
       "      <th>ItemID</th>\n",
       "      <th>CategoryID</th>\n",
       "      <th>BehaviorType</th>\n",
       "      <th>Timestamp</th>\n",
       "    </tr>\n",
       "  </thead>\n",
       "  <tbody>\n",
       "    <tr>\n",
       "      <td>0</td>\n",
       "      <td>314276</td>\n",
       "      <td>3657454</td>\n",
       "      <td>3738615</td>\n",
       "      <td>pv</td>\n",
       "      <td>2017-11-25 09:07:51</td>\n",
       "    </tr>\n",
       "    <tr>\n",
       "      <td>1</td>\n",
       "      <td>314276</td>\n",
       "      <td>98571</td>\n",
       "      <td>3738615</td>\n",
       "      <td>pv</td>\n",
       "      <td>2017-11-25 09:09:12</td>\n",
       "    </tr>\n",
       "    <tr>\n",
       "      <td>2</td>\n",
       "      <td>314276</td>\n",
       "      <td>76385</td>\n",
       "      <td>3108044</td>\n",
       "      <td>pv</td>\n",
       "      <td>2017-11-25 09:09:49</td>\n",
       "    </tr>\n",
       "    <tr>\n",
       "      <td>3</td>\n",
       "      <td>314276</td>\n",
       "      <td>1281342</td>\n",
       "      <td>3108044</td>\n",
       "      <td>pv</td>\n",
       "      <td>2017-11-25 09:10:36</td>\n",
       "    </tr>\n",
       "    <tr>\n",
       "      <td>4</td>\n",
       "      <td>314276</td>\n",
       "      <td>3893085</td>\n",
       "      <td>3607361</td>\n",
       "      <td>pv</td>\n",
       "      <td>2017-11-25 09:11:38</td>\n",
       "    </tr>\n",
       "  </tbody>\n",
       "</table>\n",
       "</div>"
      ],
      "text/plain": [
       "   UserID   ItemID CategoryID BehaviorType           Timestamp\n",
       "0  314276  3657454    3738615           pv 2017-11-25 09:07:51\n",
       "1  314276    98571    3738615           pv 2017-11-25 09:09:12\n",
       "2  314276    76385    3108044           pv 2017-11-25 09:09:49\n",
       "3  314276  1281342    3108044           pv 2017-11-25 09:10:36\n",
       "4  314276  3893085    3607361           pv 2017-11-25 09:11:38"
      ]
     },
     "execution_count": 8,
     "metadata": {},
     "output_type": "execute_result"
    }
   ],
   "source": [
    "df_copy.head()"
   ]
  },
  {
   "cell_type": "code",
   "execution_count": 9,
   "metadata": {},
   "outputs": [
    {
     "name": "stdout",
     "output_type": "stream",
     "text": [
      "<class 'pandas.core.frame.DataFrame'>\n",
      "RangeIndex: 5000000 entries, 0 to 4999999\n",
      "Data columns (total 5 columns):\n",
      "UserID          object\n",
      "ItemID          object\n",
      "CategoryID      object\n",
      "BehaviorType    category\n",
      "Timestamp       datetime64[ns]\n",
      "dtypes: category(1), datetime64[ns](1), object(3)\n",
      "memory usage: 100.1+ MB\n"
     ]
    }
   ],
   "source": [
    "df_copy.info()"
   ]
  },
  {
   "cell_type": "markdown",
   "metadata": {},
   "source": [
    "## 异常值处理\n",
    "- 探索行为发生的时间是否存在不合理时间点"
   ]
  },
  {
   "cell_type": "code",
   "execution_count": 10,
   "metadata": {
    "scrolled": true
   },
   "outputs": [
    {
     "name": "stdout",
     "output_type": "stream",
     "text": [
      "起始时间：1918-08-01 12:37:51\n",
      "终止时间：2020-11-02 07:24:47\n"
     ]
    }
   ],
   "source": [
    "end_time = df_copy.Timestamp.max()\n",
    "start_time = df_copy.Timestamp.min()\n",
    "print('起始时间：%s\\n终止时间：%s'%(start_time,end_time))"
   ]
  },
  {
   "cell_type": "code",
   "execution_count": 11,
   "metadata": {},
   "outputs": [],
   "source": [
    "# 查看非异常值的数据量\n",
    "n_overtime = df_copy[(df_copy.Timestamp < '2017-11-25 00:00:00') | (df_copy.Timestamp >= '2017-12-04 00:00:00')].shape[0]"
   ]
  },
  {
   "cell_type": "code",
   "execution_count": 12,
   "metadata": {
    "scrolled": true
   },
   "outputs": [
    {
     "data": {
      "text/plain": [
       "0.0005212"
      ]
     },
     "execution_count": 12,
     "metadata": {},
     "output_type": "execute_result"
    }
   ],
   "source": [
    "n_overtime/df_copy.shape[0]"
   ]
  },
  {
   "cell_type": "markdown",
   "metadata": {},
   "source": [
    "项目分析是在2017年11月25日至2017年12月3日期间的用户行为记录，不在此事件范围内的数据量约占总数据量0.05%，对于分析结果影响甚微，将删除这部分数据记录"
   ]
  },
  {
   "cell_type": "code",
   "execution_count": 13,
   "metadata": {},
   "outputs": [],
   "source": [
    "# 筛选符合时间范围内的数据记录\n",
    "valid_df = df_copy[(df_copy.Timestamp >= '2017-11-25 00:00:00') & (df_copy.Timestamp < '2017-12-04 00:00:00')]"
   ]
  },
  {
   "cell_type": "markdown",
   "metadata": {},
   "source": [
    "## 数据统一性处理\n",
    "在处理数据类型时，观察到存在ItemID的数字位数不足7位，应该是源数据集提取时发生字符串转成数字后前面0消失的问题，所以这里需要对ItemID、UserID和CategoryID的数字位数做统一性处理"
   ]
  },
  {
   "cell_type": "code",
   "execution_count": 14,
   "metadata": {},
   "outputs": [],
   "source": [
    "# 检查大部分ItemID、UserID和CategoryID的位数是几位\n",
    "num_itemid = valid_df.ItemID.apply(lambda x: len(x))\n",
    "num_userid = valid_df.UserID.apply(lambda x: len(x))\n",
    "num_catid = valid_df.CategoryID.apply(lambda x:len(x))"
   ]
  },
  {
   "cell_type": "code",
   "execution_count": 15,
   "metadata": {},
   "outputs": [
    {
     "data": {
      "text/plain": [
       "7    0.806343\n",
       "6    0.173391\n",
       "5    0.017822\n",
       "4    0.001745\n",
       "3    0.000163\n",
       "2    0.000014\n",
       "Name: ItemID, dtype: float64"
      ]
     },
     "execution_count": 15,
     "metadata": {},
     "output_type": "execute_result"
    }
   ],
   "source": [
    "num_itemid.value_counts()/5000000"
   ]
  },
  {
   "cell_type": "code",
   "execution_count": 16,
   "metadata": {},
   "outputs": [
    {
     "data": {
      "text/plain": [
       "6    0.900408\n",
       "5    0.089358\n",
       "4    0.008902\n",
       "3    0.000766\n",
       "2    0.000046\n",
       "Name: UserID, dtype: float64"
      ]
     },
     "execution_count": 16,
     "metadata": {},
     "output_type": "execute_result"
    }
   ],
   "source": [
    "num_userid.value_counts()/5000000"
   ]
  },
  {
   "cell_type": "code",
   "execution_count": 17,
   "metadata": {
    "run_control": {
     "marked": false
    }
   },
   "outputs": [
    {
     "data": {
      "text/plain": [
       "7    0.823485\n",
       "6    0.169200\n",
       "5    0.006419\n",
       "4    0.000375\n",
       "Name: CategoryID, dtype: float64"
      ]
     },
     "execution_count": 17,
     "metadata": {},
     "output_type": "execute_result"
    }
   ],
   "source": [
    "num_catid.value_counts()/5000000"
   ]
  },
  {
   "cell_type": "code",
   "execution_count": 18,
   "metadata": {},
   "outputs": [],
   "source": [
    "# 在不足7位的ItemID前面填充0\n",
    "valid_df.ItemID = valid_df.ItemID.str.zfill(7)\n",
    "# 在不足6位的UserID前填充0\n",
    "valid_df.UserID = valid_df.UserID.str.zfill(6)"
   ]
  },
  {
   "cell_type": "code",
   "execution_count": 19,
   "metadata": {},
   "outputs": [],
   "source": [
    "# 对不足7位的CategoryID前面填充0\n",
    "valid_df.CategoryID = valid_df.CategoryID.str.zfill(7)"
   ]
  },
  {
   "cell_type": "markdown",
   "metadata": {},
   "source": [
    "## 数据完整性处理"
   ]
  },
  {
   "cell_type": "code",
   "execution_count": 20,
   "metadata": {},
   "outputs": [],
   "source": [
    "# 根据Timestamp提取对应的日期、星期和小时变量(1-7分别代表了星期一至星期天)\n",
    "valid_df['Date'] = valid_df.Timestamp.dt.date\n",
    "valid_df['Hour'] = valid_df.Timestamp.dt.hour\n",
    "valid_df['DayofWeek'] = valid_df.Timestamp.dt.dayofweek + 1"
   ]
  },
  {
   "cell_type": "code",
   "execution_count": 21,
   "metadata": {},
   "outputs": [
    {
     "data": {
      "text/html": [
       "<div>\n",
       "<style scoped>\n",
       "    .dataframe tbody tr th:only-of-type {\n",
       "        vertical-align: middle;\n",
       "    }\n",
       "\n",
       "    .dataframe tbody tr th {\n",
       "        vertical-align: top;\n",
       "    }\n",
       "\n",
       "    .dataframe thead th {\n",
       "        text-align: right;\n",
       "    }\n",
       "</style>\n",
       "<table border=\"1\" class=\"dataframe\">\n",
       "  <thead>\n",
       "    <tr style=\"text-align: right;\">\n",
       "      <th></th>\n",
       "      <th>UserID</th>\n",
       "      <th>ItemID</th>\n",
       "      <th>CategoryID</th>\n",
       "      <th>BehaviorType</th>\n",
       "      <th>Timestamp</th>\n",
       "      <th>Date</th>\n",
       "      <th>Hour</th>\n",
       "      <th>DayofWeek</th>\n",
       "    </tr>\n",
       "  </thead>\n",
       "  <tbody>\n",
       "    <tr>\n",
       "      <td>0</td>\n",
       "      <td>314276</td>\n",
       "      <td>3657454</td>\n",
       "      <td>3738615</td>\n",
       "      <td>pv</td>\n",
       "      <td>2017-11-25 09:07:51</td>\n",
       "      <td>2017-11-25</td>\n",
       "      <td>9</td>\n",
       "      <td>6</td>\n",
       "    </tr>\n",
       "    <tr>\n",
       "      <td>1</td>\n",
       "      <td>314276</td>\n",
       "      <td>0098571</td>\n",
       "      <td>3738615</td>\n",
       "      <td>pv</td>\n",
       "      <td>2017-11-25 09:09:12</td>\n",
       "      <td>2017-11-25</td>\n",
       "      <td>9</td>\n",
       "      <td>6</td>\n",
       "    </tr>\n",
       "    <tr>\n",
       "      <td>2</td>\n",
       "      <td>314276</td>\n",
       "      <td>0076385</td>\n",
       "      <td>3108044</td>\n",
       "      <td>pv</td>\n",
       "      <td>2017-11-25 09:09:49</td>\n",
       "      <td>2017-11-25</td>\n",
       "      <td>9</td>\n",
       "      <td>6</td>\n",
       "    </tr>\n",
       "    <tr>\n",
       "      <td>3</td>\n",
       "      <td>314276</td>\n",
       "      <td>1281342</td>\n",
       "      <td>3108044</td>\n",
       "      <td>pv</td>\n",
       "      <td>2017-11-25 09:10:36</td>\n",
       "      <td>2017-11-25</td>\n",
       "      <td>9</td>\n",
       "      <td>6</td>\n",
       "    </tr>\n",
       "    <tr>\n",
       "      <td>4</td>\n",
       "      <td>314276</td>\n",
       "      <td>3893085</td>\n",
       "      <td>3607361</td>\n",
       "      <td>pv</td>\n",
       "      <td>2017-11-25 09:11:38</td>\n",
       "      <td>2017-11-25</td>\n",
       "      <td>9</td>\n",
       "      <td>6</td>\n",
       "    </tr>\n",
       "  </tbody>\n",
       "</table>\n",
       "</div>"
      ],
      "text/plain": [
       "   UserID   ItemID CategoryID BehaviorType           Timestamp        Date  \\\n",
       "0  314276  3657454    3738615           pv 2017-11-25 09:07:51  2017-11-25   \n",
       "1  314276  0098571    3738615           pv 2017-11-25 09:09:12  2017-11-25   \n",
       "2  314276  0076385    3108044           pv 2017-11-25 09:09:49  2017-11-25   \n",
       "3  314276  1281342    3108044           pv 2017-11-25 09:10:36  2017-11-25   \n",
       "4  314276  3893085    3607361           pv 2017-11-25 09:11:38  2017-11-25   \n",
       "\n",
       "   Hour  DayofWeek  \n",
       "0     9          6  \n",
       "1     9          6  \n",
       "2     9          6  \n",
       "3     9          6  \n",
       "4     9          6  "
      ]
     },
     "execution_count": 21,
     "metadata": {},
     "output_type": "execute_result"
    }
   ],
   "source": [
    "valid_df.head()"
   ]
  },
  {
   "cell_type": "code",
   "execution_count": null,
   "metadata": {
    "run_control": {
     "marked": false
    }
   },
   "outputs": [],
   "source": [
    "# 将清理好，用于本项目分析的数据集储存到本地\n",
    "valid_df.to_csv('updated_valid_df.csv',index=False)"
   ]
  }
 ],
 "metadata": {
  "kernelspec": {
   "display_name": "Python 3",
   "language": "python",
   "name": "python3"
  },
  "language_info": {
   "codemirror_mode": {
    "name": "ipython",
    "version": 3
   },
   "file_extension": ".py",
   "mimetype": "text/x-python",
   "name": "python",
   "nbconvert_exporter": "python",
   "pygments_lexer": "ipython3",
   "version": "3.7.4"
  },
  "toc": {
   "base_numbering": 1,
   "nav_menu": {},
   "number_sections": true,
   "sideBar": true,
   "skip_h1_title": false,
   "title_cell": "Table of Contents",
   "title_sidebar": "Contents",
   "toc_cell": false,
   "toc_position": {
    "height": "calc(100% - 180px)",
    "left": "10px",
    "top": "150px",
    "width": "273.188px"
   },
   "toc_section_display": true,
   "toc_window_display": true
  }
 },
 "nbformat": 4,
 "nbformat_minor": 2
}
